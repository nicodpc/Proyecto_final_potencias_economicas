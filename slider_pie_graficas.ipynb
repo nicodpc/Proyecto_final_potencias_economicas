{
 "cells": [
  {
   "cell_type": "code",
   "execution_count": 1,
   "metadata": {},
   "outputs": [
    {
     "data": {
      "application/vnd.plotly.v1+json": {
       "config": {
        "plotlyServerURL": "https://plot.ly"
       },
       "data": [
        {
         "labels": [
          "Alemania",
          "Estados Unidos",
          "China",
          "India",
          "Japón"
         ],
         "marker": {
          "colors": [
           "teal",
           "navy",
           "darkred",
           "red"
          ]
         },
         "type": "pie",
         "values": [
          215838400000,
          1073303000000,
          92602640000,
          62422480000,
          212609200000
         ]
        }
       ],
       "frames": [
        {
         "data": [
          {
           "labels": [
            "Alemania",
            "Estados Unidos",
            "China",
            "India",
            "Japón"
           ],
           "type": "pie",
           "values": [
            215838400000,
            1073303000000,
            92602640000,
            62422480000,
            212609200000
           ]
          }
         ]
        },
        {
         "data": [
          {
           "labels": [
            "Alemania",
            "Estados Unidos",
            "China",
            "India",
            "Japón"
           ],
           "type": "pie",
           "values": [
            950290900000,
            2857307000000,
            191149200000,
            186325300000,
            1105386000000
           ]
          }
         ]
        },
        {
         "data": [
          {
           "labels": [
            "Alemania",
            "Estados Unidos",
            "China",
            "India",
            "Japón"
           ],
           "type": "pie",
           "values": [
            1771671000000,
            5963144000000,
            360857900000,
            320979000000,
            3132818000000
           ]
          }
         ]
        },
        {
         "data": [
          {
           "labels": [
            "Alemania",
            "Estados Unidos",
            "China",
            "India",
            "Japón"
           ],
           "type": "pie",
           "values": [
            1947982000000,
            10250950000000,
            1211332000000,
            468394900000,
            4968359000000
           ]
          }
         ]
        },
        {
         "data": [
          {
           "labels": [
            "Alemania",
            "Estados Unidos",
            "China",
            "India",
            "Japón"
           ],
           "type": "pie",
           "values": [
            3399600000000,
            15048960000000,
            6087192000000,
            1675616000000,
            5759072000000
           ]
          }
         ]
        },
        {
         "data": [
          {
           "labels": [
            "Alemania",
            "Estados Unidos",
            "China",
            "India",
            "Japón"
           ],
           "type": "pie",
           "values": [
            3889669000000,
            21060470000000,
            14687740000000,
            2671595000000,
            5048790000000
           ]
          }
         ]
        },
        {
         "data": [
          {
           "labels": [
            "Alemania",
            "Estados Unidos",
            "China",
            "India",
            "Japón"
           ],
           "type": "pie",
           "values": [
            4072192000000,
            25462700000000,
            17963170000000,
            3385090000000,
            4231141000000
           ]
          }
         ]
        }
       ],
       "layout": {
        "sliders": [
         {
          "steps": [
           {
            "args": [
             [
              null
             ]
            ],
            "label": "1970",
            "method": "animate"
           },
           {
            "args": [
             [
              null
             ]
            ],
            "label": "1980",
            "method": "animate"
           },
           {
            "args": [
             [
              null
             ]
            ],
            "label": "1990",
            "method": "animate"
           },
           {
            "args": [
             [
              null
             ]
            ],
            "label": "2000",
            "method": "animate"
           },
           {
            "args": [
             [
              null
             ]
            ],
            "label": "2010",
            "method": "animate"
           },
           {
            "args": [
             [
              null
             ]
            ],
            "label": "2020",
            "method": "animate"
           },
           {
            "args": [
             [
              null
             ]
            ],
            "label": "2030",
            "method": "animate"
           }
          ]
         }
        ],
        "template": {
         "data": {
          "bar": [
           {
            "error_x": {
             "color": "#f2f5fa"
            },
            "error_y": {
             "color": "#f2f5fa"
            },
            "marker": {
             "line": {
              "color": "rgb(17,17,17)",
              "width": 0.5
             },
             "pattern": {
              "fillmode": "overlay",
              "size": 10,
              "solidity": 0.2
             }
            },
            "type": "bar"
           }
          ],
          "barpolar": [
           {
            "marker": {
             "line": {
              "color": "rgb(17,17,17)",
              "width": 0.5
             },
             "pattern": {
              "fillmode": "overlay",
              "size": 10,
              "solidity": 0.2
             }
            },
            "type": "barpolar"
           }
          ],
          "carpet": [
           {
            "aaxis": {
             "endlinecolor": "#A2B1C6",
             "gridcolor": "#506784",
             "linecolor": "#506784",
             "minorgridcolor": "#506784",
             "startlinecolor": "#A2B1C6"
            },
            "baxis": {
             "endlinecolor": "#A2B1C6",
             "gridcolor": "#506784",
             "linecolor": "#506784",
             "minorgridcolor": "#506784",
             "startlinecolor": "#A2B1C6"
            },
            "type": "carpet"
           }
          ],
          "choropleth": [
           {
            "colorbar": {
             "outlinewidth": 0,
             "ticks": ""
            },
            "type": "choropleth"
           }
          ],
          "contour": [
           {
            "colorbar": {
             "outlinewidth": 0,
             "ticks": ""
            },
            "colorscale": [
             [
              0,
              "#0d0887"
             ],
             [
              0.1111111111111111,
              "#46039f"
             ],
             [
              0.2222222222222222,
              "#7201a8"
             ],
             [
              0.3333333333333333,
              "#9c179e"
             ],
             [
              0.4444444444444444,
              "#bd3786"
             ],
             [
              0.5555555555555556,
              "#d8576b"
             ],
             [
              0.6666666666666666,
              "#ed7953"
             ],
             [
              0.7777777777777778,
              "#fb9f3a"
             ],
             [
              0.8888888888888888,
              "#fdca26"
             ],
             [
              1,
              "#f0f921"
             ]
            ],
            "type": "contour"
           }
          ],
          "contourcarpet": [
           {
            "colorbar": {
             "outlinewidth": 0,
             "ticks": ""
            },
            "type": "contourcarpet"
           }
          ],
          "heatmap": [
           {
            "colorbar": {
             "outlinewidth": 0,
             "ticks": ""
            },
            "colorscale": [
             [
              0,
              "#0d0887"
             ],
             [
              0.1111111111111111,
              "#46039f"
             ],
             [
              0.2222222222222222,
              "#7201a8"
             ],
             [
              0.3333333333333333,
              "#9c179e"
             ],
             [
              0.4444444444444444,
              "#bd3786"
             ],
             [
              0.5555555555555556,
              "#d8576b"
             ],
             [
              0.6666666666666666,
              "#ed7953"
             ],
             [
              0.7777777777777778,
              "#fb9f3a"
             ],
             [
              0.8888888888888888,
              "#fdca26"
             ],
             [
              1,
              "#f0f921"
             ]
            ],
            "type": "heatmap"
           }
          ],
          "heatmapgl": [
           {
            "colorbar": {
             "outlinewidth": 0,
             "ticks": ""
            },
            "colorscale": [
             [
              0,
              "#0d0887"
             ],
             [
              0.1111111111111111,
              "#46039f"
             ],
             [
              0.2222222222222222,
              "#7201a8"
             ],
             [
              0.3333333333333333,
              "#9c179e"
             ],
             [
              0.4444444444444444,
              "#bd3786"
             ],
             [
              0.5555555555555556,
              "#d8576b"
             ],
             [
              0.6666666666666666,
              "#ed7953"
             ],
             [
              0.7777777777777778,
              "#fb9f3a"
             ],
             [
              0.8888888888888888,
              "#fdca26"
             ],
             [
              1,
              "#f0f921"
             ]
            ],
            "type": "heatmapgl"
           }
          ],
          "histogram": [
           {
            "marker": {
             "pattern": {
              "fillmode": "overlay",
              "size": 10,
              "solidity": 0.2
             }
            },
            "type": "histogram"
           }
          ],
          "histogram2d": [
           {
            "colorbar": {
             "outlinewidth": 0,
             "ticks": ""
            },
            "colorscale": [
             [
              0,
              "#0d0887"
             ],
             [
              0.1111111111111111,
              "#46039f"
             ],
             [
              0.2222222222222222,
              "#7201a8"
             ],
             [
              0.3333333333333333,
              "#9c179e"
             ],
             [
              0.4444444444444444,
              "#bd3786"
             ],
             [
              0.5555555555555556,
              "#d8576b"
             ],
             [
              0.6666666666666666,
              "#ed7953"
             ],
             [
              0.7777777777777778,
              "#fb9f3a"
             ],
             [
              0.8888888888888888,
              "#fdca26"
             ],
             [
              1,
              "#f0f921"
             ]
            ],
            "type": "histogram2d"
           }
          ],
          "histogram2dcontour": [
           {
            "colorbar": {
             "outlinewidth": 0,
             "ticks": ""
            },
            "colorscale": [
             [
              0,
              "#0d0887"
             ],
             [
              0.1111111111111111,
              "#46039f"
             ],
             [
              0.2222222222222222,
              "#7201a8"
             ],
             [
              0.3333333333333333,
              "#9c179e"
             ],
             [
              0.4444444444444444,
              "#bd3786"
             ],
             [
              0.5555555555555556,
              "#d8576b"
             ],
             [
              0.6666666666666666,
              "#ed7953"
             ],
             [
              0.7777777777777778,
              "#fb9f3a"
             ],
             [
              0.8888888888888888,
              "#fdca26"
             ],
             [
              1,
              "#f0f921"
             ]
            ],
            "type": "histogram2dcontour"
           }
          ],
          "mesh3d": [
           {
            "colorbar": {
             "outlinewidth": 0,
             "ticks": ""
            },
            "type": "mesh3d"
           }
          ],
          "parcoords": [
           {
            "line": {
             "colorbar": {
              "outlinewidth": 0,
              "ticks": ""
             }
            },
            "type": "parcoords"
           }
          ],
          "pie": [
           {
            "automargin": true,
            "type": "pie"
           }
          ],
          "scatter": [
           {
            "marker": {
             "line": {
              "color": "#283442"
             }
            },
            "type": "scatter"
           }
          ],
          "scatter3d": [
           {
            "line": {
             "colorbar": {
              "outlinewidth": 0,
              "ticks": ""
             }
            },
            "marker": {
             "colorbar": {
              "outlinewidth": 0,
              "ticks": ""
             }
            },
            "type": "scatter3d"
           }
          ],
          "scattercarpet": [
           {
            "marker": {
             "colorbar": {
              "outlinewidth": 0,
              "ticks": ""
             }
            },
            "type": "scattercarpet"
           }
          ],
          "scattergeo": [
           {
            "marker": {
             "colorbar": {
              "outlinewidth": 0,
              "ticks": ""
             }
            },
            "type": "scattergeo"
           }
          ],
          "scattergl": [
           {
            "marker": {
             "line": {
              "color": "#283442"
             }
            },
            "type": "scattergl"
           }
          ],
          "scattermapbox": [
           {
            "marker": {
             "colorbar": {
              "outlinewidth": 0,
              "ticks": ""
             }
            },
            "type": "scattermapbox"
           }
          ],
          "scatterpolar": [
           {
            "marker": {
             "colorbar": {
              "outlinewidth": 0,
              "ticks": ""
             }
            },
            "type": "scatterpolar"
           }
          ],
          "scatterpolargl": [
           {
            "marker": {
             "colorbar": {
              "outlinewidth": 0,
              "ticks": ""
             }
            },
            "type": "scatterpolargl"
           }
          ],
          "scatterternary": [
           {
            "marker": {
             "colorbar": {
              "outlinewidth": 0,
              "ticks": ""
             }
            },
            "type": "scatterternary"
           }
          ],
          "surface": [
           {
            "colorbar": {
             "outlinewidth": 0,
             "ticks": ""
            },
            "colorscale": [
             [
              0,
              "#0d0887"
             ],
             [
              0.1111111111111111,
              "#46039f"
             ],
             [
              0.2222222222222222,
              "#7201a8"
             ],
             [
              0.3333333333333333,
              "#9c179e"
             ],
             [
              0.4444444444444444,
              "#bd3786"
             ],
             [
              0.5555555555555556,
              "#d8576b"
             ],
             [
              0.6666666666666666,
              "#ed7953"
             ],
             [
              0.7777777777777778,
              "#fb9f3a"
             ],
             [
              0.8888888888888888,
              "#fdca26"
             ],
             [
              1,
              "#f0f921"
             ]
            ],
            "type": "surface"
           }
          ],
          "table": [
           {
            "cells": {
             "fill": {
              "color": "#506784"
             },
             "line": {
              "color": "rgb(17,17,17)"
             }
            },
            "header": {
             "fill": {
              "color": "#2a3f5f"
             },
             "line": {
              "color": "rgb(17,17,17)"
             }
            },
            "type": "table"
           }
          ]
         },
         "layout": {
          "annotationdefaults": {
           "arrowcolor": "#f2f5fa",
           "arrowhead": 0,
           "arrowwidth": 1
          },
          "autotypenumbers": "strict",
          "coloraxis": {
           "colorbar": {
            "outlinewidth": 0,
            "ticks": ""
           }
          },
          "colorscale": {
           "diverging": [
            [
             0,
             "#8e0152"
            ],
            [
             0.1,
             "#c51b7d"
            ],
            [
             0.2,
             "#de77ae"
            ],
            [
             0.3,
             "#f1b6da"
            ],
            [
             0.4,
             "#fde0ef"
            ],
            [
             0.5,
             "#f7f7f7"
            ],
            [
             0.6,
             "#e6f5d0"
            ],
            [
             0.7,
             "#b8e186"
            ],
            [
             0.8,
             "#7fbc41"
            ],
            [
             0.9,
             "#4d9221"
            ],
            [
             1,
             "#276419"
            ]
           ],
           "sequential": [
            [
             0,
             "#0d0887"
            ],
            [
             0.1111111111111111,
             "#46039f"
            ],
            [
             0.2222222222222222,
             "#7201a8"
            ],
            [
             0.3333333333333333,
             "#9c179e"
            ],
            [
             0.4444444444444444,
             "#bd3786"
            ],
            [
             0.5555555555555556,
             "#d8576b"
            ],
            [
             0.6666666666666666,
             "#ed7953"
            ],
            [
             0.7777777777777778,
             "#fb9f3a"
            ],
            [
             0.8888888888888888,
             "#fdca26"
            ],
            [
             1,
             "#f0f921"
            ]
           ],
           "sequentialminus": [
            [
             0,
             "#0d0887"
            ],
            [
             0.1111111111111111,
             "#46039f"
            ],
            [
             0.2222222222222222,
             "#7201a8"
            ],
            [
             0.3333333333333333,
             "#9c179e"
            ],
            [
             0.4444444444444444,
             "#bd3786"
            ],
            [
             0.5555555555555556,
             "#d8576b"
            ],
            [
             0.6666666666666666,
             "#ed7953"
            ],
            [
             0.7777777777777778,
             "#fb9f3a"
            ],
            [
             0.8888888888888888,
             "#fdca26"
            ],
            [
             1,
             "#f0f921"
            ]
           ]
          },
          "colorway": [
           "#636efa",
           "#EF553B",
           "#00cc96",
           "#ab63fa",
           "#FFA15A",
           "#19d3f3",
           "#FF6692",
           "#B6E880",
           "#FF97FF",
           "#FECB52"
          ],
          "font": {
           "color": "#f2f5fa"
          },
          "geo": {
           "bgcolor": "rgb(17,17,17)",
           "lakecolor": "rgb(17,17,17)",
           "landcolor": "rgb(17,17,17)",
           "showlakes": true,
           "showland": true,
           "subunitcolor": "#506784"
          },
          "hoverlabel": {
           "align": "left"
          },
          "hovermode": "closest",
          "mapbox": {
           "style": "dark"
          },
          "paper_bgcolor": "rgb(17,17,17)",
          "plot_bgcolor": "rgb(17,17,17)",
          "polar": {
           "angularaxis": {
            "gridcolor": "#506784",
            "linecolor": "#506784",
            "ticks": ""
           },
           "bgcolor": "rgb(17,17,17)",
           "radialaxis": {
            "gridcolor": "#506784",
            "linecolor": "#506784",
            "ticks": ""
           }
          },
          "scene": {
           "xaxis": {
            "backgroundcolor": "rgb(17,17,17)",
            "gridcolor": "#506784",
            "gridwidth": 2,
            "linecolor": "#506784",
            "showbackground": true,
            "ticks": "",
            "zerolinecolor": "#C8D4E3"
           },
           "yaxis": {
            "backgroundcolor": "rgb(17,17,17)",
            "gridcolor": "#506784",
            "gridwidth": 2,
            "linecolor": "#506784",
            "showbackground": true,
            "ticks": "",
            "zerolinecolor": "#C8D4E3"
           },
           "zaxis": {
            "backgroundcolor": "rgb(17,17,17)",
            "gridcolor": "#506784",
            "gridwidth": 2,
            "linecolor": "#506784",
            "showbackground": true,
            "ticks": "",
            "zerolinecolor": "#C8D4E3"
           }
          },
          "shapedefaults": {
           "line": {
            "color": "#f2f5fa"
           }
          },
          "sliderdefaults": {
           "bgcolor": "#C8D4E3",
           "bordercolor": "rgb(17,17,17)",
           "borderwidth": 1,
           "tickwidth": 0
          },
          "ternary": {
           "aaxis": {
            "gridcolor": "#506784",
            "linecolor": "#506784",
            "ticks": ""
           },
           "baxis": {
            "gridcolor": "#506784",
            "linecolor": "#506784",
            "ticks": ""
           },
           "bgcolor": "rgb(17,17,17)",
           "caxis": {
            "gridcolor": "#506784",
            "linecolor": "#506784",
            "ticks": ""
           }
          },
          "title": {
           "x": 0.05
          },
          "updatemenudefaults": {
           "bgcolor": "#506784",
           "borderwidth": 0
          },
          "xaxis": {
           "automargin": true,
           "gridcolor": "#283442",
           "linecolor": "#506784",
           "ticks": "",
           "title": {
            "standoff": 15
           },
           "zerolinecolor": "#283442",
           "zerolinewidth": 2
          },
          "yaxis": {
           "automargin": true,
           "gridcolor": "#283442",
           "linecolor": "#506784",
           "ticks": "",
           "title": {
            "standoff": 15
           },
           "zerolinecolor": "#283442",
           "zerolinewidth": 2
          }
         }
        },
        "title": {
         "text": "PIB por Países"
        },
        "updatemenus": [
         {
          "buttons": [
           {
            "args": [
             null
            ],
            "label": "Play",
            "method": "animate"
           }
          ],
          "showactive": false,
          "type": "buttons"
         }
        ]
       }
      }
     },
     "metadata": {},
     "output_type": "display_data"
    }
   ],
   "source": [
    "import plotly.graph_objects as go\n",
    "\n",
    "paises = ['Alemania','Estados Unidos','China','India','Japón']\n",
    "valores_1970 = [2.158384e+11,1.073303e+12,9.260264e+10,6.242248e+10,2.126092e+11]\n",
    "valores_1980 = [9.502909e+11,2.857307e+12,1.911492e+11,1.863253e+11,1.105386e+12]\n",
    "valores_1990 = [1.771671e+12,5.963144e+12,3.608579e+11,3.209790e+11,3.132818e+12]\n",
    "valores_2000 = [1.947982e+12,1.025095e+13,1.211332e+12,4.683949e+11,4.968359e+12]\n",
    "valores_2010 = [3.3996e+12,1.504896e+13,6.087192e+12,1.675616e+12,5.759072e+12]\n",
    "valores_2020 = [3.889669e+12,2.106047e+13,1.468774e+13,2.671595e+12,5.048790e+12]\n",
    "valores_2022 = [4.072192e+12,2.546270e+13,1.796317e+13,3.385090e+12,4.231141e+12]\n",
    "\n",
    "frames = [go.Frame(data=[go.Pie(labels=paises, values=valores_1970)])]  # frame para 1970\n",
    "frames.append(go.Frame(data=[go.Pie(labels=paises, values=valores_1980)]))  # frame para 1980\n",
    "frames.append(go.Frame(data=[go.Pie(labels=paises, values=valores_1990)]))  # frame para 1990\n",
    "frames.append(go.Frame(data=[go.Pie(labels=paises, values=valores_2000)]))  # frame para 2000\n",
    "frames.append(go.Frame(data=[go.Pie(labels=paises, values=valores_2010)]))  # frame para 2010\n",
    "frames.append(go.Frame(data=[go.Pie(labels=paises, values=valores_2020)]))  # frame para 2020\n",
    "frames.append(go.Frame(data=[go.Pie(labels=paises, values=valores_2022)]))  # frame para 2022\n",
    "\n",
    "\n",
    "steps = []\n",
    "for i, frame in enumerate(frames):\n",
    "    step = dict(method=\"animate\", label=str(1970 + i*10), args=[[frame.name]])\n",
    "    steps.append(step)\n",
    "\n",
    "fig = go.Figure(\n",
    "    data=frames[0].data,\n",
    "    layout=go.Layout(\n",
    "        title=\"PIB por Países\",\n",
    "        template=\"plotly_dark\",\n",
    "        updatemenus=[dict(type=\"buttons\",\n",
    "                          showactive=False,\n",
    "                          buttons=[dict(label=\"Play\",\n",
    "                                        method=\"animate\",\n",
    "                                        args=[None])])],\n",
    "        sliders=[dict(steps=steps)]\n",
    "    ),\n",
    "    frames=frames\n",
    ")\n",
    "\n",
    "colores_pibt = ['teal','navy','darkred','red']\n",
    "fig.update_traces(marker=dict(colors=colores_pibt))\n",
    "\n",
    "fig.show()"
   ]
  },
  {
   "cell_type": "code",
   "execution_count": 1,
   "metadata": {},
   "outputs": [
    {
     "data": {
      "application/vnd.jupyter.widget-view+json": {
       "model_id": "37f17f44d16a40e3a582325053439d3f",
       "version_major": 2,
       "version_minor": 0
      },
      "text/plain": [
       "IntSlider(value=1970, max=2022, min=1970, step=10)"
      ]
     },
     "metadata": {},
     "output_type": "display_data"
    },
    {
     "data": {
      "application/vnd.jupyter.widget-view+json": {
       "model_id": "8b4d866a98ae45339c380c9d3f9bffcb",
       "version_major": 2,
       "version_minor": 0
      },
      "text/plain": [
       "FigureWidget({\n",
       "    'data': [{'labels': [Alemania, Estados Unidos, China, India, Japón],\n",
       "              'marker': {'colors': ['teal', 'navy', 'darkred', 'red']},\n",
       "              'type': 'pie',\n",
       "              'uid': 'c4aa750a-08be-4447-a5b2-8eb927cd4ea6',\n",
       "              'values': [215838400000.0, 1073303000000.0, 92602640000.0,\n",
       "                         62422480000.0, 212609200000.0]}],\n",
       "    'layout': {'template': '...'}\n",
       "})"
      ]
     },
     "metadata": {},
     "output_type": "display_data"
    }
   ],
   "source": [
    "import ipywidgets as widgets\n",
    "from IPython.display import display\n",
    "import plotly.graph_objects as go\n",
    "\n",
    "paises = ['Alemania','Estados Unidos','China','India','Japón']\n",
    "datos = {\n",
    "    1970: [2.158384e+11,1.073303e+12,9.260264e+10,6.242248e+10,2.126092e+11],\n",
    "    1980: [9.502909e+11,2.857307e+12,1.911492e+11,1.863253e+11,1.105386e+12],\n",
    "    1990: [1.771671e+12,5.963144e+12,3.608579e+11,3.209790e+11,3.132818e+12],\n",
    "    2000: [1.947982e+12,1.025095e+13,1.211332e+12,4.683949e+11,4.968359e+12],\n",
    "    2010: [3.3996e+12,1.504896e+13,6.087192e+12,1.675616e+12,5.759072e+12],\n",
    "    2020: [3.889669e+12,2.106047e+13,1.468774e+13,2.671595e+12,5.048790e+12],\n",
    "    2022: [4.072192e+12,2.546270e+13,1.796317e+13,3.385090e+12,4.231141e+12]\n",
    "}\n",
    "colores_pibt = ['teal','navy','darkred','red']\n",
    "\n",
    "fig = go.FigureWidget(data=[go.Pie(labels=paises, values=datos[1970], marker=dict(colors=colores_pibt))],\n",
    "                      )\n",
    "slider = widgets.IntSlider(value=1970, min=1970, max=2022, step=10)\n",
    "\n",
    "def update_on_change(val):\n",
    "    fig.data[0].values = datos[val['new']]\n",
    "\n",
    "slider.observe(update_on_change, names='value')\n",
    "\n",
    "display(slider)\n",
    "display(fig)"
   ]
  },
  {
   "cell_type": "code",
   "execution_count": 4,
   "metadata": {},
   "outputs": [],
   "source": [
    "fig.write_html(r\"C:\\Users\\nico_\\Data\\Proyecto_Final_nico\\Streamlit\\imagenes\\grafia_pie.html\")"
   ]
  },
  {
   "cell_type": "code",
   "execution_count": 2,
   "metadata": {},
   "outputs": [
    {
     "ename": "TypeError",
     "evalue": "'module' object is not callable",
     "output_type": "error",
     "traceback": [
      "\u001b[1;31m---------------------------------------------------------------------------\u001b[0m",
      "\u001b[1;31mTypeError\u001b[0m                                 Traceback (most recent call last)",
      "Cell \u001b[1;32mIn[2], line 18\u001b[0m\n\u001b[0;32m      6\u001b[0m datos \u001b[39m=\u001b[39m {\n\u001b[0;32m      7\u001b[0m     \u001b[39m1970\u001b[39m: [\u001b[39m2.158384e+11\u001b[39m,\u001b[39m1.073303e+12\u001b[39m,\u001b[39m9.260264e+10\u001b[39m,\u001b[39m6.242248e+10\u001b[39m,\u001b[39m2.126092e+11\u001b[39m],\n\u001b[0;32m      8\u001b[0m     \u001b[39m1980\u001b[39m: [\u001b[39m9.502909e+11\u001b[39m,\u001b[39m2.857307e+12\u001b[39m,\u001b[39m1.911492e+11\u001b[39m,\u001b[39m1.863253e+11\u001b[39m,\u001b[39m1.105386e+12\u001b[39m],\n\u001b[1;32m   (...)\u001b[0m\n\u001b[0;32m     13\u001b[0m     \u001b[39m2022\u001b[39m: [\u001b[39m4.072192e+12\u001b[39m,\u001b[39m2.546270e+13\u001b[39m,\u001b[39m1.796317e+13\u001b[39m,\u001b[39m3.385090e+12\u001b[39m,\u001b[39m4.231141e+12\u001b[39m]\n\u001b[0;32m     14\u001b[0m }\n\u001b[0;32m     15\u001b[0m colores_pibt \u001b[39m=\u001b[39m [\u001b[39m'\u001b[39m\u001b[39mteal\u001b[39m\u001b[39m'\u001b[39m,\u001b[39m'\u001b[39m\u001b[39mnavy\u001b[39m\u001b[39m'\u001b[39m,\u001b[39m'\u001b[39m\u001b[39mdarkred\u001b[39m\u001b[39m'\u001b[39m,\u001b[39m'\u001b[39m\u001b[39mred\u001b[39m\u001b[39m'\u001b[39m]\n\u001b[0;32m     17\u001b[0m fig \u001b[39m=\u001b[39m go\u001b[39m.\u001b[39mFigureWidget(data\u001b[39m=\u001b[39m[go\u001b[39m.\u001b[39mPie(labels\u001b[39m=\u001b[39mpaises, values\u001b[39m=\u001b[39mdatos[\u001b[39m1970\u001b[39m], marker\u001b[39m=\u001b[39m\u001b[39mdict\u001b[39m(colors\u001b[39m=\u001b[39mcolores_pibt))],\n\u001b[1;32m---> 18\u001b[0m                       layout\u001b[39m=\u001b[39mgo\u001b[39m.\u001b[39;49mlayout(\n\u001b[0;32m     19\u001b[0m                           title\u001b[39m=\u001b[39;49m\u001b[39m'\u001b[39;49m\u001b[39mRepresentación del PIB Total de las potencias económicas\u001b[39;49m\u001b[39m'\u001b[39;49m,\n\u001b[0;32m     20\u001b[0m                           template\u001b[39m=\u001b[39;49m\u001b[39m'\u001b[39;49m\u001b[39mplotly_dark\u001b[39;49m\u001b[39m'\u001b[39;49m\n\u001b[0;32m     21\u001b[0m                       ))\n\u001b[0;32m     22\u001b[0m slider \u001b[39m=\u001b[39m widgets\u001b[39m.\u001b[39mIntSlider(value\u001b[39m=\u001b[39m\u001b[39m1970\u001b[39m, \u001b[39mmin\u001b[39m\u001b[39m=\u001b[39m\u001b[39m1970\u001b[39m, \u001b[39mmax\u001b[39m\u001b[39m=\u001b[39m\u001b[39m2022\u001b[39m, step\u001b[39m=\u001b[39m\u001b[39m10\u001b[39m)\n\u001b[0;32m     24\u001b[0m \u001b[39mdef\u001b[39;00m \u001b[39mupdate_on_change\u001b[39m(val):\n",
      "\u001b[1;31mTypeError\u001b[0m: 'module' object is not callable"
     ]
    }
   ],
   "source": [
    "import ipywidgets as widgets\n",
    "from IPython.display import display\n",
    "import plotly.graph_objects as go\n",
    "\n",
    "paises = ['Alemania','Estados Unidos','China','India','Japón']\n",
    "datos = {\n",
    "    1970: [2.158384e+11,1.073303e+12,9.260264e+10,6.242248e+10,2.126092e+11],\n",
    "    1980: [9.502909e+11,2.857307e+12,1.911492e+11,1.863253e+11,1.105386e+12],\n",
    "    1990: [1.771671e+12,5.963144e+12,3.608579e+11,3.209790e+11,3.132818e+12],\n",
    "    2000: [1.947982e+12,1.025095e+13,1.211332e+12,4.683949e+11,4.968359e+12],\n",
    "    2010: [3.3996e+12,1.504896e+13,6.087192e+12,1.675616e+12,5.759072e+12],\n",
    "    2020: [3.889669e+12,2.106047e+13,1.468774e+13,2.671595e+12,5.048790e+12],\n",
    "    2022: [4.072192e+12,2.546270e+13,1.796317e+13,3.385090e+12,4.231141e+12]\n",
    "}\n",
    "colores_pibt = ['teal','navy','darkred','red']\n",
    "\n",
    "fig = go.FigureWidget(data=[go.Pie(labels=paises, values=datos[1970], marker=dict(colors=colores_pibt))],\n",
    "                      layout=go.layout(\n",
    "                          title='Representación del PIB Total de las potencias económicas',\n",
    "                          template='plotly_dark'\n",
    "                      ))\n",
    "slider = widgets.IntSlider(value=1970, min=1970, max=2022, step=10)\n",
    "\n",
    "def update_on_change(val):\n",
    "    fig.data[0].values = datos[val['new']]\n",
    "\n",
    "slider.observe(update_on_change, names='value')\n",
    "\n",
    "display(slider)\n",
    "display(fig)"
   ]
  }
 ],
 "metadata": {
  "kernelspec": {
   "display_name": "nicosample",
   "language": "python",
   "name": "python3"
  },
  "language_info": {
   "codemirror_mode": {
    "name": "ipython",
    "version": 3
   },
   "file_extension": ".py",
   "mimetype": "text/x-python",
   "name": "python",
   "nbconvert_exporter": "python",
   "pygments_lexer": "ipython3",
   "version": "3.10.9"
  },
  "orig_nbformat": 4
 },
 "nbformat": 4,
 "nbformat_minor": 2
}
